{
 "cells": [
  {
   "cell_type": "markdown",
   "metadata": {},
   "source": [
    "# Analysis of UK road accidents"
   ]
  },
  {
   "cell_type": "markdown",
   "metadata": {},
   "source": [
    "*I provide an analysis of UK road accidents over the time period 2005-2015. The question of interest is how well some standard classifiers (Logistic Regression, Random Forest, k-Neighbors) can predict whether or not an accident is serious.* "
   ]
  },
  {
   "cell_type": "markdown",
   "metadata": {},
   "source": [
    "## Data source"
   ]
  },
  {
   "cell_type": "markdown",
   "metadata": {},
   "source": [
    "The analysis is based on a data set of approximately 1.7 million road accidents in the United Kingdom between 2005 and 2015. This data set is available on Kaggle:\n",
    "\n",
    "https://www.kaggle.com/silicon99/dft-accident-data\n",
    "\n",
    "In the UK, information about road accidents is recorded using a standard form known as “Stats19.” This form can be found online at the relevant government website:\n",
    "\n",
    "https://assets.publishing.service.gov.uk/government/uploads/system/uploads/attachment_data/file/230590/stats19.pdf\n",
    "\n",
    "The Stats19 form records information about the circumstances of each accident, such as day, time, weather conditions, road conditions, and so forth. It also categorizes accidents as either “slight” or “serious” or even “fatal.” Kaggle’s data set contains most (unfortunately not all) of the information collected via the Stats19 form. "
   ]
  },
  {
   "cell_type": "markdown",
   "metadata": {},
   "source": [
    "## Preliminaries"
   ]
  },
  {
   "cell_type": "markdown",
   "metadata": {},
   "source": [
    "Import relevant libraries and functions, and load the dataset. "
   ]
  },
  {
   "cell_type": "code",
   "execution_count": 1,
   "metadata": {},
   "outputs": [],
   "source": [
    "import pandas as pd\n",
    "import matplotlib.pyplot as plt\n",
    "import seaborn as sns\n",
    "from sklearn.model_selection import train_test_split\n",
    "from sklearn.linear_model import LogisticRegression\n",
    "from sklearn.metrics import confusion_matrix\n",
    "from sklearn.model_selection import train_test_split\n",
    "from sklearn.linear_model import LogisticRegression\n",
    "from sklearn.metrics import confusion_matrix\n",
    "from sklearn.neighbors import KNeighborsClassifier"
   ]
  },
  {
   "cell_type": "code",
   "execution_count": 2,
   "metadata": {},
   "outputs": [],
   "source": [
    "UKroads=pd.read_csv(\"Accidents0515.csv\")"
   ]
  },
  {
   "cell_type": "markdown",
   "metadata": {},
   "source": [
    "Inspect the dataset and select columns relevant for analysis."
   ]
  },
  {
   "cell_type": "code",
   "execution_count": 3,
   "metadata": {},
   "outputs": [
    {
     "name": "stdout",
     "output_type": "stream",
     "text": [
      "Index(['Accident_Index', 'Location_Easting_OSGR', 'Location_Northing_OSGR',\n",
      "       'Longitude', 'Latitude', 'Police_Force', 'Accident_Severity',\n",
      "       'Number_of_Vehicles', 'Number_of_Casualties', 'Date', 'Day_of_Week',\n",
      "       'Time', 'Local_Authority_(District)', 'Local_Authority_(Highway)',\n",
      "       '1st_Road_Class', '1st_Road_Number', 'Road_Type', 'Speed_limit',\n",
      "       'Junction_Detail', 'Junction_Control', '2nd_Road_Class',\n",
      "       '2nd_Road_Number', 'Pedestrian_Crossing-Human_Control',\n",
      "       'Pedestrian_Crossing-Physical_Facilities', 'Light_Conditions',\n",
      "       'Weather_Conditions', 'Road_Surface_Conditions',\n",
      "       'Special_Conditions_at_Site', 'Carriageway_Hazards',\n",
      "       'Urban_or_Rural_Area', 'Did_Police_Officer_Attend_Scene_of_Accident',\n",
      "       'LSOA_of_Accident_Location'],\n",
      "      dtype='object')\n"
     ]
    }
   ],
   "source": [
    "print(UKroads.columns)"
   ]
  },
  {
   "cell_type": "code",
   "execution_count": 4,
   "metadata": {},
   "outputs": [],
   "source": [
    "column_selection = [\"Pedestrian_Crossing-Physical_Facilities\", \"Number_of_Vehicles\", \"Number_of_Casualties\", \"Urban_or_Rural_Area\",\n",
    "          \"Light_Conditions\", \"Weather_Conditions\", \"Road_Surface_Conditions\",\n",
    "          \"Road_Type\", \"Day_of_Week\", \"Time\", \"Speed_limit\", \"Junction_Detail\", \"Accident_Severity\"]\n",
    "\n",
    "UKroads=UKroads[column_selection]"
   ]
  },
  {
   "cell_type": "markdown",
   "metadata": {},
   "source": [
    "Check for missing values in the remaining dataset. "
   ]
  },
  {
   "cell_type": "code",
   "execution_count": 5,
   "metadata": {},
   "outputs": [
    {
     "name": "stdout",
     "output_type": "stream",
     "text": [
      "Pedestrian_Crossing-Physical_Facilities      0\n",
      "Number_of_Vehicles                           0\n",
      "Number_of_Casualties                         0\n",
      "Urban_or_Rural_Area                          0\n",
      "Light_Conditions                             0\n",
      "Weather_Conditions                           0\n",
      "Road_Surface_Conditions                      0\n",
      "Road_Type                                    0\n",
      "Day_of_Week                                  0\n",
      "Time                                       151\n",
      "Speed_limit                                  0\n",
      "Junction_Detail                              0\n",
      "Accident_Severity                            0\n",
      "dtype: int64\n"
     ]
    }
   ],
   "source": [
    "print(UKroads.isnull().sum())"
   ]
  },
  {
   "cell_type": "markdown",
   "metadata": {},
   "source": [
    "It turns out that there are only a few (151 out of more than 1.7 million accidents) rows in which information about time is missing. Given this small number of missing values, it makes sense to simply remove these rows from the dataset, then verify that no more values are missing, and we still have >1.7 million accidents left in the dataset."
   ]
  },
  {
   "cell_type": "code",
   "execution_count": 6,
   "metadata": {},
   "outputs": [
    {
     "name": "stdout",
     "output_type": "stream",
     "text": [
      "0\n",
      "(1780502, 13)\n"
     ]
    }
   ],
   "source": [
    "UKroads=UKroads.dropna()\n",
    "print(UKroads.isnull().sum().sum())\n",
    "print(UKroads.shape)"
   ]
  },
  {
   "cell_type": "markdown",
   "metadata": {},
   "source": [
    "Unfortunately, however, this does not settle the missing values issue. In fact, when filling out the Stats19 form, one can explicitly tick boxes with meanings such as \"other\" or \"unknown\". Thus, values may be uninformative or vacuous although they are not technically missing from the dataset. We can identify and eliminate the rows where this is true by looking at the Stats19 form itself. For instance, when it comes to weather information, the Stats19 form assigns the digit 8 to mean \"other\" and the digit 9 to mean \"unknown\", hence I remove accidents in which weather conditions are reported as either 8 or 9. Moreover, I also exclude \"outlier\" accidents where the number of casualties or vehicles involved is greater than 5.  "
   ]
  },
  {
   "cell_type": "code",
   "execution_count": 7,
   "metadata": {},
   "outputs": [],
   "source": [
    "# Exclude from the dataset those accidents with an unusually high number of casualties or vehicles.\n",
    "UKroads = UKroads[UKroads[\"Number_of_Casualties\"] <= 5]\n",
    "UKroads = UKroads[UKroads[\"Number_of_Vehicles\"] <= 5]\n",
    "\n",
    "# Remove rows where information is missing, vaguely described as \"other,\" or implausible (such as a zero speed limit).\n",
    "# Simplify information on the time an accident happened: For an accident at hh:mm, we only retain hh. \n",
    "UKroads = UKroads[UKroads[\"Road_Type\"] != 9]\n",
    "UKroads = UKroads[UKroads[\"Road_Surface_Conditions\"] != -1]\n",
    "UKroads = UKroads[UKroads[\"Weather_Conditions\"]!=8]\n",
    "UKroads = UKroads[UKroads[\"Weather_Conditions\"]!=9]\n",
    "UKroads = UKroads[UKroads[\"Urban_or_Rural_Area\"]!=3]\n",
    "UKroads = UKroads[UKroads[\"Speed_limit\"]!=0]\n",
    "UKroads = UKroads[UKroads[\"Junction_Detail\"]!=-1]\n",
    "UKroads = UKroads[UKroads[\"Urban_or_Rural_Area\"]!=3]\n",
    "UKroads = UKroads[UKroads[\"Time\"].astype(\"str\").str.slice(0,1,1) !=\"n\"]"
   ]
  },
  {
   "cell_type": "code",
   "execution_count": 8,
   "metadata": {},
   "outputs": [
    {
     "name": "stdout",
     "output_type": "stream",
     "text": [
      "(1688436, 13)\n"
     ]
    }
   ],
   "source": [
    "print(UKroads.shape)"
   ]
  },
  {
   "cell_type": "markdown",
   "metadata": {},
   "source": [
    "Even after removing all the above cases, there are still 1.688 million accidents left."
   ]
  },
  {
   "cell_type": "markdown",
   "metadata": {},
   "source": [
    "A fair amount of the information contained in the data set consists of categorical variables encoded by a set of digits that are not very intuitive. Where appropriate, I decode these variables so that categories have informative names. I also make regroup the categories in order to make only distinctions that seem most relevant: For instance, when categorizing the kind of road on which an accident happened, I consider the slip road as part of an expressway. I also create a distinction between wind information and precipitation information, which the Stats19 form lumps together as weather information."
   ]
  },
  {
   "cell_type": "markdown",
   "metadata": {},
   "source": [
    " For accidents with pedestrians crossing, there is information about the kind of crossing. Group them into\n",
    " four categories."
   ]
  },
  {
   "cell_type": "code",
   "execution_count": 9,
   "metadata": {},
   "outputs": [],
   "source": [
    "decode_pedestrian = {0:\"none\", 1:\"zebra\", 4:\"traffic lights\", 5:\"traffic lights\", 7:\"other\", 8:\"other\" }\n",
    "UKroads[\"Pedestrian_Crossing-Physical_Facilities\"]= UKroads[\"Pedestrian_Crossing-Physical_Facilities\"].astype(\"category\").map(decode_pedestrian)"
   ]
  },
  {
   "cell_type": "markdown",
   "metadata": {},
   "source": [
    " Weather information on the Stats19 form includes wind conditions, for instance \"rain with high winds.\"\n",
    " Create an additional column so as to disentangle information about wind from that about precipitation."
   ]
  },
  {
   "cell_type": "code",
   "execution_count": 10,
   "metadata": {},
   "outputs": [],
   "source": [
    "\n",
    "UKroads[\"Wind_Conditions\"] = UKroads[\"Weather_Conditions\"]\n",
    "\n",
    "decode_weather = { 1:\"Fine\", 4:\"Fine\",\n",
    "                   8:\"Other or Unknown\", 9:\"Other or Unknown\",\n",
    "                   2:\"Rain\", 5:\"Rain\",\n",
    "                   3:\"Snow\", 6:\"Snow\",\n",
    "                   7:\"Fog or Mist\"\n",
    "                   }\n",
    "\n",
    "decode_wind = {1:\"No high winds\", 2:\"No high winds\", 3:\"No high winds\",\n",
    "               4:\"High winds\", 5:\"High winds\", 6:\"High winds\",\n",
    "               7:\"No high winds\", 8:\"No high winds\", 9:\"No high winds\"\n",
    "               }\n",
    "\n",
    "UKroads[\"Weather_Conditions\"]=UKroads[\"Weather_Conditions\"].astype(\"category\").map(decode_weather)\n",
    "UKroads[\"Wind_Conditions\"]=UKroads[\"Wind_Conditions\"].astype(\"category\").map(decode_wind)"
   ]
  },
  {
   "cell_type": "markdown",
   "metadata": {},
   "source": [
    "Simplify information on light conditions to distinguish only between daylight and darkness:"
   ]
  },
  {
   "cell_type": "code",
   "execution_count": 11,
   "metadata": {},
   "outputs": [],
   "source": [
    "decode_light = {1: \"Daylight\",\n",
    "                4:\"Dark\", 5:\"Dark\", 6:\"Dark\", 7:\"Dark\"\n",
    "                }\n",
    "\n",
    "UKroads[\"Light_Conditions\"]=UKroads[\"Light_Conditions\"].astype(\"category\").map(decode_light)"
   ]
  },
  {
   "cell_type": "markdown",
   "metadata": {},
   "source": [
    "Simplify information on road type: Distinguish between express roads and normal roads. Consider dual carriageways and sliproads as part of express, and others as normal."
   ]
  },
  {
   "cell_type": "code",
   "execution_count": 12,
   "metadata": {},
   "outputs": [],
   "source": [
    "decode_road = {1: \"normal\", 2:\"normal\", 6:\"normal\",\n",
    "               3:\"express\", 7:\"express\",\n",
    "               }\n",
    "UKroads[\"Road_Type\"]=UKroads[\"Road_Type\"].astype(\"category\").map(decode_road)"
   ]
  },
  {
   "cell_type": "markdown",
   "metadata": {},
   "source": [
    "Distinguish only between accidents that happen at a roundabout, at some other kind of junction, or outside of any junction."
   ]
  },
  {
   "cell_type": "code",
   "execution_count": 13,
   "metadata": {},
   "outputs": [],
   "source": [
    "decode_junction = {0:\"no junction\", 1: \"roundabout\", 2: \"roundabout\", 3:\"junction\", 5:\"junction\",\n",
    "                   6:\"junction\", 7:\"junction\", 8:\"junction\", 9:\"junction\"}\n",
    "\n",
    "UKroads[\"Junction_Detail\"] = UKroads[\"Junction_Detail\"].astype(\"category\").map(decode_junction)"
   ]
  },
  {
   "cell_type": "markdown",
   "metadata": {},
   "source": [
    "Distinguish between accidents that happened in urban vs. rural areas."
   ]
  },
  {
   "cell_type": "code",
   "execution_count": 14,
   "metadata": {},
   "outputs": [],
   "source": [
    "decode_area = {1: \"urban?\", 2:\"rural?\"}\n",
    "UKroads[\"Urban_or_Rural_Area\"]=UKroads[\"Urban_or_Rural_Area\"].astype(\"category\").map(decode_area)"
   ]
  },
  {
   "cell_type": "markdown",
   "metadata": {},
   "source": [
    " Information about the time of day when accidents happen: Consider only the hour of the accident, that is,\n",
    " all accidents between 11:00 and 11:59 are lumped together."
   ]
  },
  {
   "cell_type": "code",
   "execution_count": 15,
   "metadata": {},
   "outputs": [],
   "source": [
    "\n",
    "UKroads[\"Time\"]=UKroads[\"Time\"].astype(\"str\").str.slice(0,2,1).astype(\"int8\")"
   ]
  },
  {
   "cell_type": "markdown",
   "metadata": {},
   "source": [
    "## Accident severity: Slight or serious"
   ]
  },
  {
   "cell_type": "markdown",
   "metadata": {},
   "source": [
    "As mentioned before, the goal is to figure out how well some standard classifiers can predict how serious an accident is. "
   ]
  },
  {
   "cell_type": "markdown",
   "metadata": {},
   "source": [
    "The data set groups accidents into three levels of severity: “slight,” “serious,”  and   “fatal.” \n",
    "One challenge is a clear class imbalance with regard to accident severity.\n",
    "Let us first visualize the share of accidents with the various degrees of severity."
   ]
  },
  {
   "cell_type": "code",
   "execution_count": 16,
   "metadata": {},
   "outputs": [
    {
     "data": {
      "image/png": "[encoded data removed]",
      "text/plain": [
       "<Figure size 432x288 with 1 Axes>"
      ]
     },
     "metadata": {},
     "output_type": "display_data"
    }
   ],
   "source": [
    "plt.pie(UKroads[\"Accident_Severity\"].value_counts(),\n",
    "        labels=[\"slight\", \"serious\", \"fatal\"],\n",
    "        autopct='%1.1f%%', shadow=False, startangle=0,\n",
    "        rotatelabels=True,\n",
    "        colors=[\"moccasin\",\"sienna\",\"firebrick\"])\n",
    "plt.title(\"UK Road Accidents by Severity\")\n",
    "plt.show()"
   ]
  },
  {
   "cell_type": "markdown",
   "metadata": {},
   "source": [
    "In this analysis, a distinction will be made only between “slight” and “serious” accidents, with the “fatal” accidents included in the “serious” category. There are approximately six slight accidents for each serious accident. "
   ]
  },
  {
   "cell_type": "code",
   "execution_count": 17,
   "metadata": {},
   "outputs": [],
   "source": [
    "decode_severity = {3:\"slight\",\n",
    "                   1:\"serious\", 2:\"serious\",\n",
    "                   }\n",
    "UKroads[\"Accident_Severity\"]=UKroads[\"Accident_Severity\"].astype(\"category\").map(decode_severity)"
   ]
  },
  {
   "cell_type": "markdown",
   "metadata": {},
   "source": [
    "## Frequency vs severity of accidents"
   ]
  },
  {
   "cell_type": "markdown",
   "metadata": {},
   "source": [
    "Before addressing classification in detail, let us explore the accident data. In particular, we will see the connection between frequency and severity of accidents. "
   ]
  },
  {
   "cell_type": "markdown",
   "metadata": {},
   "source": [
    "### Accidents throughout the day"
   ]
  },
  {
   "cell_type": "markdown",
   "metadata": {},
   "source": [
    "One variable that obviously influences the frequency of road accidents it the time of the day. It is intuitive to expect a lot of accidents during the rush hours, and few accidents at night. It is less clear-cut, however, how the severity of accidents varies over the course of the day. Here is a visualization of serious accidents over the course of the day. The histogram is normalized, so that the fitted line approximates a density function of the distribution of serious accidents throughout the day."
   ]
  },
  {
   "cell_type": "code",
   "execution_count": 18,
   "metadata": {},
   "outputs": [
    {
     "data": {
      "image/png": "[encoded data removed]",
      "text/plain": [
       "<Figure size 432x288 with 1 Axes>"
      ]
     },
     "metadata": {
      "needs_background": "light"
     },
     "output_type": "display_data"
    }
   ],
   "source": [
    "serious_accidents = UKroads[UKroads[\"Accident_Severity\"]==\"serious\"]\n",
    "slight_accidents = UKroads[UKroads[\"Accident_Severity\"]==\"slight\"]\n",
    "\n",
    "x1 = serious_accidents[\"Time\"]\n",
    "x2 = slight_accidents[\"Time\"]\n",
    "\n",
    "\n",
    "sns.distplot(x1, 24, color=\"sienna\")\n",
    "plt.xlim(0,23)\n",
    "plt.xlabel(\"Time of Day\")\n",
    "plt.ylabel(\"Density\")\n",
    "plt.title(\"Serious Accidents over the Course of the Day\")\n",
    "plt.grid(True)\n",
    "plt.show()"
   ]
  },
  {
   "cell_type": "markdown",
   "metadata": {},
   "source": [
    "As expected, one can see peaks during rush-hours and few serious accidents at night. A less expected observation is that during the daytime off-peak hours, serious accidents tend to become more frequent over time, and the peak in the evening rush hours is much more pronounced than in the morning rush hour.\n",
    "\n",
    "One question of interest is whether the pattern for serious accidents is different from the pattern for accidents overall. In order to gain insight on this question, I plot the densities of the distribution of serious accidents as well as overall accidents over the course of the day."
   ]
  },
  {
   "cell_type": "code",
   "execution_count": 19,
   "metadata": {},
   "outputs": [
    {
     "data": {
      "image/png": "[encoded data removed]",
      "text/plain": [
       "<Figure size 432x288 with 1 Axes>"
      ]
     },
     "metadata": {
      "needs_background": "light"
     },
     "output_type": "display_data"
    }
   ],
   "source": [
    "sns.distplot(x1,24,kde=True,hist=False,label=\"Serious accidents\",color=\"sienna\")\n",
    "sns.distplot(UKroads[\"Time\"],24,kde=True,color=\"navy\",hist=False,label=\"All accidents\",kde_kws={\"bw\":0.5})\n",
    "plt.xlabel(\"Time of Day\")\n",
    "plt.ylabel(\"Density\")\n",
    "plt.title(\"Distribution of Slight and Serious Accidents\")\n",
    "plt.legend()\n",
    "plt.grid()\n",
    "plt.xlim(0,23)\n",
    "plt.show()"
   ]
  },
  {
   "cell_type": "markdown",
   "metadata": {},
   "source": [
    "The brownish graph representing the density of serious accidents is the same as in the previous figure, while the blue graph shows the density of the distribution of accidents overall throughout the day. We see that both distributions follow a similar pattern: Rushhours and off-peak hours are clearly reflected in the graph. However, we also gain an additional insight: The brown line is below the blue one during those hours where there are a lot of accidents. The interpretation is:\n",
    "\n",
    "*During times of the day when relatively few accidents happen, those accidents which do happen tend to be more serious.*"
   ]
  },
  {
   "cell_type": "markdown",
   "metadata": {},
   "source": [
    "Let us now visualize how frequency and severity of accidents vary depending on the day of the week. By centering data around its mean, we can construct intuitive measures to answer questions such as: \"*How much more frequent are accidents on Friday compared to other days of the week? How much more serious are accidents on Sunday compared to other days of the week?*\""
   ]
  },
  {
   "cell_type": "code",
   "execution_count": 20,
   "metadata": {},
   "outputs": [
    {
     "data": {
      "image/png": "[encoded data removed]",
      "text/plain": [
       "<Figure size 432x288 with 1 Axes>"
      ]
     },
     "metadata": {
      "needs_background": "light"
     },
     "output_type": "display_data"
    }
   ],
   "source": [
    "days= [\"Sun\", \"Mon\", \"Tue\", \"Wed\", \"Thu\", \"Fri\", \"Sat\"]\n",
    "\n",
    "vc_total_days = UKroads[\"Day_of_Week\"].value_counts().sort_index()\n",
    "vc_total_days_mean = vc_total_days.mean()\n",
    "vc_total_days_centered = (vc_total_days-vc_total_days_mean)/vc_total_days_mean\n",
    "\n",
    "vc_serious_days = serious_accidents[\"Day_of_Week\"].value_counts().sort_index()\n",
    "vc_serious_days_mean = vc_serious_days.mean()\n",
    "vc_serious_days_centered = (vc_serious_days-vc_serious_days_mean)/vc_total_days_centered\n",
    "\n",
    "share_of_serious = (vc_serious_days/vc_total_days)\n",
    "share_of_serious_mean =share_of_serious.mean()\n",
    "share_of_serious_centered = (share_of_serious-share_of_serious_mean)/share_of_serious_mean\n",
    "\n",
    "\n",
    "\n",
    "new_data = {\"Total Accidents\":vc_total_days, \"Serious Accidents\":vc_serious_days,\n",
    "            \"Total Accidents (centered)\":vc_total_days_centered,\n",
    "            \"Serious Accidents (centered)\":vc_serious_days_centered,\n",
    "            \"Serious Share\": share_of_serious_centered}\n",
    "new_df = pd.DataFrame(new_data)\n",
    "new_df.index=days\n",
    "\n",
    "\n",
    "plt.bar([1,2,3,4,5,6,7],new_df[\"Total Accidents (centered)\"],color=\"navy\",tick_label=days,width=0.4,align=\"edge\",\n",
    "        label=\"Excess Frequency\")\n",
    "plt.bar([1,2,3,4,5,6,7],new_df[\"Serious Share\"],color=\"sienna\",tick_label=days,width=-0.4,align=\"edge\",\n",
    "        label=\"Excess Severity\")\n",
    "#plt.axhline(y=0,xmin=0,xmax=1,color=\"firebrick\",linewidth=2)\n",
    "plt.legend()\n",
    "plt.title(\"Fluctuations in Accidents and their Seriousness over the Week\")\n",
    "plt.ylabel(\"Deviations in percent of the mean\")\n",
    "plt.show()"
   ]
  },
  {
   "cell_type": "markdown",
   "metadata": {},
   "source": [
    "In this figure, the bars show the deviation from average values. For instance, the first brown bar indicates how much more likely accidents are to be serious on a Sunday than they are on average – one could call this the “excess severity” of accidents on Sundays. The first blue bar indicates how much less frequent accidents are on Sundays than they are on average – one could describe this by saying that “excess frequency” of accidents is negative on Sundays.  Note that for each of the days of the week (except Monday), the bars point in opposite directions. \n",
    "\n",
    "Hence, there is a similar pattern to what we saw when considering the severity of accidents throughout the 24 hours of a day:\n",
    "\n",
    "*When fewer accidents happen overall, the accidents which do happen are more likely to be serious.*\n",
    "\n",
    "One channel through which this effect may occur is as follows:\n",
    "When there is a lot of traffic, a lot of accidents happen, but congestion slows down traffic which makes accidents less serious. "
   ]
  },
  {
   "cell_type": "markdown",
   "metadata": {},
   "source": [
    "As a note of caution, observe that the dataset does not really tell us much about the risk of any individual having an accident given that they take the road on any particular day. After all, this would require relating the number of accidents to the amount of road traffic, which is not part of the dataset at hand. "
   ]
  },
  {
   "cell_type": "markdown",
   "metadata": {},
   "source": [
    "The dataset contains information on more details of the accident which will be used as features in the classification. Examples are: Information about whether each accident occurred in an urban or rural area. This data shows a similar pattern as the distribution of accidents over days of the week and times of the day: More accidents happen in urban areas, but the share of serious accidents is greater in rural areas. Other examples of features in the dataset are: iformation about the type of road on which the accident happened (single or dual carriageway, crossroads, roundabouts, etc.), information on weather and wind conditions, information on the number of vehicles and casualties involved in each accident.    "
   ]
  },
  {
   "cell_type": "markdown",
   "metadata": {},
   "source": [
    "## Preparing features for classification"
   ]
  },
  {
   "cell_type": "markdown",
   "metadata": {},
   "source": [
    "For the purpose of classification, we will lump all weekdays (except Friday) in one category, and the weekends in another. Friday is treated as a category of its own here."
   ]
  },
  {
   "cell_type": "code",
   "execution_count": 21,
   "metadata": {},
   "outputs": [],
   "source": [
    "decode_day = {1: \"Weekend\", 7:\"Weekend\", 6:\"Friday\",\n",
    "             2:\"Weekday\", 3: \"Weekday\",  4:\"Weekday\", 5:\"Weekday\"}\n",
    "\n",
    "UKroads[\"Day_of_Week\"]=UKroads[\"Day_of_Week\"].astype(\"category\").map(decode_day)"
   ]
  },
  {
   "cell_type": "markdown",
   "metadata": {},
   "source": [
    "Some of the features are categorical in nature: Let us deal with them by converting them into dummies. "
   ]
  },
  {
   "cell_type": "code",
   "execution_count": 22,
   "metadata": {},
   "outputs": [
    {
     "name": "stdout",
     "output_type": "stream",
     "text": [
      "Index(['Number_of_Vehicles', 'Number_of_Casualties', 'Road_Surface_Conditions',\n",
      "       'Time', 'Speed_limit', 'Pedestrian_Crossing-Physical_Facilities_other',\n",
      "       'Pedestrian_Crossing-Physical_Facilities_traffic lights',\n",
      "       'Pedestrian_Crossing-Physical_Facilities_zebra',\n",
      "       'Light_Conditions_Daylight', 'Weather_Conditions_Fog or Mist',\n",
      "       'Weather_Conditions_Rain', 'Weather_Conditions_Snow',\n",
      "       'Road_Type_normal', 'Day_of_Week_Weekday', 'Day_of_Week_Weekend',\n",
      "       'Urban_or_Rural_Area_rural?', 'Wind_Conditions_No high winds',\n",
      "       'Junction_Detail_no junction', 'Junction_Detail_roundabout',\n",
      "       'Accident_Severity_slight'],\n",
      "      dtype='object')\n"
     ]
    }
   ],
   "source": [
    "# Make a list of the columns for which to create dummies.\n",
    "dum_cols = [\"Pedestrian_Crossing-Physical_Facilities\", \"Light_Conditions\", \"Weather_Conditions\", \"Road_Type\",\n",
    "            \"Day_of_Week\", \"Urban_or_Rural_Area\",\n",
    "            \"Wind_Conditions\", \"Junction_Detail\", \"Accident_Severity\"]\n",
    "\n",
    "UKroads_dum = pd.get_dummies(UKroads, columns=dum_cols, drop_first=True)\n",
    "\n",
    "print(UKroads_dum.columns)"
   ]
  },
  {
   "cell_type": "code",
   "execution_count": 23,
   "metadata": {},
   "outputs": [],
   "source": [
    "# Now select the features and labels. I exclude information about road surface conditions. This is because\n",
    "# it will very strongly correlate with weather information (If it rains, then the road is wet.)\n",
    "\n",
    "X = UKroads_dum.drop([\"Road_Surface_Conditions\", \"Accident_Severity_slight\"], axis=1)\n",
    "y = UKroads_dum[\"Accident_Severity_slight\"]"
   ]
  },
  {
   "cell_type": "code",
   "execution_count": 24,
   "metadata": {},
   "outputs": [],
   "source": [
    "# Split data into a train and a test set.\n",
    "X_train, X_test, y_train, y_test = train_test_split(X, y, test_size=0.2, random_state=0)"
   ]
  },
  {
   "cell_type": "markdown",
   "metadata": {},
   "source": [
    "## Classification"
   ]
  },
  {
   "cell_type": "markdown",
   "metadata": {},
   "source": [
    "The next step is to see how well different kinds of classifiers can distinguish between slight and serious accidents. Three classifiers will be considered: a k-nearest neighbors classifier that predicts the severity of an accident by considering the five accidents most similar to it, a logistic regression classifier, and a random forest classifier.\n",
    "\n",
    "Each of the three classifiers is adjusted to try and compensate for the class imbalance, although so far, this is done in a very plain way: For the logistic regreesion and the random forest, I use balanced class weights so that the classifier's optimization assigns greater weight to correct classification of serious accidents. For the k-nearest neighbors classifier, I use the weights-parameter to give greater priority to closer neighbors than to more distant neighbors. "
   ]
  },
  {
   "cell_type": "markdown",
   "metadata": {},
   "source": [
    "### Running different classifiers"
   ]
  },
  {
   "cell_type": "markdown",
   "metadata": {},
   "source": [
    "Running the code below **takes time!!**\n",
    "\n",
    "The results are stored in separate csv files."
   ]
  },
  {
   "cell_type": "code",
   "execution_count": 25,
   "metadata": {},
   "outputs": [],
   "source": [
    "#rfc = RandomForestClassifier(class_weight=\"balanced\")\n",
    "#rfc.fit(X_train, y_train)\n",
    "#random_forest_predictions = rfc.predict(X_test)\n",
    "\n",
    "#random_forest_score = rfc.score(X_test, y_test)\n",
    "#random_forest_confusion_matrix = confusion_matrix(y_test, random_forest_predictions)\n",
    "\n",
    "\n",
    "#random_forest_confusion_matrix_df = pd.DataFrame(random_forest_confusion_matrix, columns=[\"Predicted Serious\",\n",
    "#                                                                                          \"Predicted Slight\"],\n",
    "#                                                 )\n",
    "#random_forest_confusion_matrix_df.to_csv(\"File with RF confusion matrix.csv\")"
   ]
  },
  {
   "cell_type": "code",
   "execution_count": 26,
   "metadata": {},
   "outputs": [],
   "source": [
    "#lr = LogisticRegression(class_weight=\"balanced\", max_iter=1000)\n",
    "#lr.fit(X_train, y_train)\n",
    "#lr_predictions = lr.predict(X_test)\n",
    "#lr_confusion_matrix = confusion_matrix(y_test, lr_predictions)\n",
    "#lr_dataframe = pd.DataFrame(lr_confusion_matrix)\n",
    "#lr_dataframe.to_csv(\"File with Log Regression Results.csv\")"
   ]
  },
  {
   "cell_type": "code",
   "execution_count": 27,
   "metadata": {},
   "outputs": [],
   "source": [
    "#knn = KNeighborsClassifier(weights=\"distance\")\n",
    "#knn.fit(X_train, y_train)\n",
    "#knn_predictions = knn.predict(X_test)\n",
    "#knn_confusion_matrix = confusion_matrix(y_test, knn_predictions)\n",
    "#knn_confusion_matrix_df = pd.DataFrame(knn_confusion_matrix)\n",
    "#knn_confusion_matrix_df.to_csv(\"File with KNN results.csv\")"
   ]
  },
  {
   "cell_type": "markdown",
   "metadata": {},
   "source": [
    "### Performance assessment"
   ]
  },
  {
   "cell_type": "markdown",
   "metadata": {},
   "source": [
    "Now read in the csv files with the classification results."
   ]
  },
  {
   "cell_type": "code",
   "execution_count": 28,
   "metadata": {},
   "outputs": [],
   "source": [
    "Random_Forest = pd.read_csv(\"File with RF confusion matrix.csv\")\n",
    "Logistic_Regression = pd.read_csv(\"File with Log Regression Results.csv\")\n",
    "K_Nearest_Neighbors = pd.read_csv(\"File with KNN results.csv\")"
   ]
  },
  {
   "cell_type": "markdown",
   "metadata": {},
   "source": [
    "Now it is time to check the performance of the three classifiers, using two tools: First, I create confusion matrices that show the number of true positives, true negatives, false positives, and false negatives for each classifier. These matrices are visualized as heatmaps, where the cell corresponding to each category is darker the more accidents belong to it. Below each confusion matrix, some performance metrics are reported: The \"naive\" accuracy (percentage of accidents correctly classified, regardless of class imbalance), the precision and recall (also in percentage terms), and Cohen's kappa (ranging from 0 to 1)."
   ]
  },
  {
   "cell_type": "code",
   "execution_count": 29,
   "metadata": {},
   "outputs": [],
   "source": [
    "\n",
    "def heatmap(cm, cmap):\n",
    "    cm=cm.drop(cm.columns[0], axis=1)\n",
    "    cm.columns=[\"Serious\", \"Slight\"]\n",
    "    cm.index=[\"Serious\", \"Slight\"]\n",
    "    heatmap=sns.heatmap(cm, annot=True, annot_kws={\"size\": 25}, cmap=cmap, cbar=False, fmt=\"g\", linecolor=\n",
    "                        \"black\", linewidths=1)\n",
    "    plt.xlabel(\"Predicted\")\n",
    "    plt.ylabel(\"Actual\")\n",
    "    return heatmap\n",
    "\n",
    "def performance(cm):\n",
    "    cm = cm.drop(cm.columns[0], axis=1)\n",
    "    tp=cm.iloc[0,0]\n",
    "    fn=cm.iloc[0,1]\n",
    "    fp=cm.iloc[1,0]\n",
    "    tn=cm.iloc[1,1]\n",
    "    naive_accuracy = round((tp+tn)/(tp+tn+fp+fn),4)\n",
    "    classified_serious_prob=(tp+fp)/(tp+tn+fp+fn)\n",
    "    precision = round(tp/(tp+fp),4)\n",
    "    recall = round(tp/(tp+fn),4)\n",
    "    observed_agreement_prob=(tp+tn)/(tp+tn+fp+fn)\n",
    "    random_agreement_prob=((tp+fn)*(tp+fp)+(fp+tn)*(fn+tn))/((tp+fp+tn+fn)**2)\n",
    "    cohens_kappa= (observed_agreement_prob - random_agreement_prob)/(1-random_agreement_prob)  \n",
    "    print(\"Naive Accuracy: \"+ str(round(observed_agreement_prob*100,1)))\n",
    "#    print(\"Share of accidents classified as serious: \"+str(round(classified_serious_prob*100,1)))\n",
    "    print(\"Precision: \"+ str(round(precision*100,1)))\n",
    "    print(\"Recall: \"+str(round(recall*100,1)))\n",
    "    print(\"Cohen's Kappa: \"+str(round(cohens_kappa,3)))\n",
    "\n",
    "    \n"
   ]
  },
  {
   "cell_type": "code",
   "execution_count": 30,
   "metadata": {
    "scrolled": true
   },
   "outputs": [
    {
     "data": {
      "image/png": "[encoded data removed]",
      "text/plain": [
       "<Figure size 432x288 with 1 Axes>"
      ]
     },
     "metadata": {
      "needs_background": "light"
     },
     "output_type": "display_data"
    },
    {
     "name": "stdout",
     "output_type": "stream",
     "text": [
      "Naive Accuracy: 82.5\n",
      "Precision: 25.3\n",
      "Recall: 8.7\n",
      "Cohen's Kappa: 0.057\n"
     ]
    },
    {
     "data": {
      "image/png": "[encoded data removed]",
      "text/plain": [
       "<Figure size 432x288 with 1 Axes>"
      ]
     },
     "metadata": {
      "needs_background": "light"
     },
     "output_type": "display_data"
    },
    {
     "name": "stdout",
     "output_type": "stream",
     "text": [
      "Naive Accuracy: 65.0\n",
      "Precision: 21.7\n",
      "Recall: 51.2\n",
      "Cohen's Kappa: 0.119\n"
     ]
    },
    {
     "data": {
      "image/png": "[encoded data removed]",
      "text/plain": [
       "<Figure size 432x288 with 1 Axes>"
      ]
     },
     "metadata": {
      "needs_background": "light"
     },
     "output_type": "display_data"
    },
    {
     "name": "stdout",
     "output_type": "stream",
     "text": [
      "Naive Accuracy: 60.1\n",
      "Precision: 20.9\n",
      "Recall: 59.6\n",
      "Cohen's Kappa: 0.112\n"
     ]
    }
   ],
   "source": [
    "heatmap(K_Nearest_Neighbors, \"Blues\")\n",
    "plt.title(\"Classification Results for 5-Nearest Neighbors\")\n",
    "plt.show()\n",
    "performance(K_Nearest_Neighbors)\n",
    "\n",
    "heatmap(Random_Forest, \"Purples\")\n",
    "plt.title(\"Classification Results for Random Forest\")\n",
    "plt.show()\n",
    "performance(Random_Forest)\n",
    "\n",
    "heatmap(Logistic_Regression, \"Greens\")\n",
    "plt.title(\"Classification Results for Logistic Regression\")\n",
    "plt.show()\n",
    "performance(Logistic_Regression)\n"
   ]
  },
  {
   "cell_type": "markdown",
   "metadata": {},
   "source": [
    "### Interpretation: Which of the classifiers is most appropriate?"
   ]
  },
  {
   "cell_type": "markdown",
   "metadata": {},
   "source": [
    "In order to address this quesiton, recall the class imbalance in the dataset: About 85% of accidents are slight. Hence, a trivial model which predicts all accidents to be slight would lead to a naive accuracy measure of 85%. However, it is not useful because we presumably do want to identify some serious accidents.\n",
    "\n",
    "The naive accuracy measure (Which percentage of accidents are classified correctly?) is lower than 85% for all of the three classifiers. Naive accuracy is greatest for the 5-neighbors, smaller for the random forest, and smaller yet for the logistic regression. Conversely, the percentage of accidents classified as serious is greatest for the logistic regression, smaller for the random forest, and smaller still for the 5-neighbors. Since logistic regression classifies a lot of accidents as serious, it is not surprising that it also has the lowest precision and the greatest recall of the three classifiers. The reverse is true for the 5-neighbors.\n",
    "\n",
    "Imagine that UK authorities wanted to find out how to improve prevention of serious road accidents. In order to start the investigation, they need a classifier which identifies serious accidents. One possibility is that their budget for accident prevention is very limited. Then they might be interested in identifying a small number of accidents which are very likely to be serious. In other words, one would want to choose a classifier with high precision, but not attach too much importance to its recall / sensitivity. In this case, the 5-Nearest Neighbors classifier would be the most attractive.\n",
    "\n",
    "Alternatively, suppose that the authorities have decided to invest lots of extra resources in accident prevention. They do want to focus on serious accidents, but the objective is to make a huge effort in accident prevention overall. Hence, one would be interested in a classifier that correctly identifies the serious accidents, and it would not matter so much if it lumps a lot of slight accidents into the serious class by mistake. In that case, the Logistic Regression classifier would be most appealing. "
   ]
  },
  {
   "cell_type": "markdown",
   "metadata": {},
   "source": [
    "Finally, we could assess the classifiers' performance from a different perspective: Loosely speaking, we could ask how effective the classifier is in using the information contained in our dataset. Consider the random forest classifier. It classifies 35.4% of accidents as serious. Let us imagine a \"dumb\" benchmark classifier that just randomly classifies each accident as serious with 35.4% probability **without** paying any attention to the features at all. We can then ask by how much our actual random forest classifier does better than that benchmark. The answer to this question is given by the kappa-statistic (\"Cohen's kappa\"), which equals 0.119 for our random forest. This is the highest kappa for any of the three classifiers considered. In that sense, the random forest is the \"best\" of the above classifiers."
   ]
  },
  {
   "cell_type": "markdown",
   "metadata": {},
   "source": [
    "Unfortunately, however, none of the three classifiers above seems to have a particularly impressive performance. Of course, it is always possible that the features are simply not that informative for predicting accident severity, no matter which classifier one uses. However, there are still plenty of possibilities that could be tried to improve the classification.\n",
    "\n",
    "For example the following:"
   ]
  },
  {
   "cell_type": "markdown",
   "metadata": {},
   "source": [
    "### To be done"
   ]
  },
  {
   "cell_type": "markdown",
   "metadata": {},
   "source": [
    "Instead of working with the class weight parameters, try to deal with class imbalance by undersampling slight accidents."
   ]
  },
  {
   "cell_type": "markdown",
   "metadata": {},
   "source": [
    "Try more sophisticated way to deal with class imbalance in the KNN classifier"
   ]
  },
  {
   "cell_type": "markdown",
   "metadata": {},
   "source": [
    "Try to use a support vector classifier"
   ]
  }
 ],
 "metadata": {
  "kernelspec": {
   "display_name": "Python 3",
   "language": "python",
   "name": "python3"
  },
  "language_info": {
   "codemirror_mode": {
    "name": "ipython",
    "version": 3
   },
   "file_extension": ".py",
   "mimetype": "text/x-python",
   "name": "python",
   "nbconvert_exporter": "python",
   "pygments_lexer": "ipython3",
   "version": "3.7.4"
  }
 },
 "nbformat": 4,
 "nbformat_minor": 2
}
